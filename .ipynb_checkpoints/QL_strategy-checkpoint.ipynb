{
 "cells": [
  {
   "cell_type": "code",
   "execution_count": 72,
   "id": "e11c6181-a7e8-4be3-8797-ed121c81b6a4",
   "metadata": {},
   "outputs": [],
   "source": [
    "import yfinance as yf\n",
    "import pandas as pd\n",
    "import matplotlib.pyplot as plt\n",
    "import numpy as np\n",
    "# https://analyzingalpha.com/yfinance-python\n",
    "# https://tradingrush.net/trscore/"
   ]
  },
  {
   "cell_type": "code",
   "execution_count": 105,
   "id": "3068afab-1f3e-4b53-9145-d64ca4a8e400",
   "metadata": {},
   "outputs": [],
   "source": [
    "import indicators as ind"
   ]
  },
  {
   "cell_type": "code",
   "execution_count": 32,
   "id": "eb8b5cab-55b3-4d58-9663-d9aecb7e0ac5",
   "metadata": {},
   "outputs": [
    {
     "name": "stdout",
     "output_type": "stream",
     "text": [
      "[*********************100%***********************]  1 of 1 completed\n"
     ]
    }
   ],
   "source": [
    "ticker = 'SPY'\n",
    "start_date = pd.Timestamp(\"2019-01-01\")\n",
    "end_date = pd.Timestamp.today()\n",
    "df = yf.download(ticker, start=start_date, end=end_date)\n",
    "df.to_csv(ticker+'.csv')"
   ]
  },
  {
   "cell_type": "code",
   "execution_count": 106,
   "id": "c47e895c-16e5-45b3-98e2-fcbc04c4913e",
   "metadata": {},
   "outputs": [
    {
     "data": {
      "text/html": [
       "<div>\n",
       "<style scoped>\n",
       "    .dataframe tbody tr th:only-of-type {\n",
       "        vertical-align: middle;\n",
       "    }\n",
       "\n",
       "    .dataframe tbody tr th {\n",
       "        vertical-align: top;\n",
       "    }\n",
       "\n",
       "    .dataframe thead th {\n",
       "        text-align: right;\n",
       "    }\n",
       "</style>\n",
       "<table border=\"1\" class=\"dataframe\">\n",
       "  <thead>\n",
       "    <tr style=\"text-align: right;\">\n",
       "      <th></th>\n",
       "      <th>Date</th>\n",
       "      <th>Open</th>\n",
       "      <th>High</th>\n",
       "      <th>Low</th>\n",
       "      <th>Close</th>\n",
       "      <th>Adj Close</th>\n",
       "      <th>Volume</th>\n",
       "    </tr>\n",
       "  </thead>\n",
       "  <tbody>\n",
       "    <tr>\n",
       "      <th>0</th>\n",
       "      <td>2019-01-02</td>\n",
       "      <td>245.979996</td>\n",
       "      <td>251.210007</td>\n",
       "      <td>245.949997</td>\n",
       "      <td>250.179993</td>\n",
       "      <td>232.308762</td>\n",
       "      <td>126925200</td>\n",
       "    </tr>\n",
       "    <tr>\n",
       "      <th>1</th>\n",
       "      <td>2019-01-03</td>\n",
       "      <td>248.229996</td>\n",
       "      <td>248.570007</td>\n",
       "      <td>243.669998</td>\n",
       "      <td>244.210007</td>\n",
       "      <td>226.765244</td>\n",
       "      <td>144140700</td>\n",
       "    </tr>\n",
       "    <tr>\n",
       "      <th>2</th>\n",
       "      <td>2019-01-04</td>\n",
       "      <td>247.589996</td>\n",
       "      <td>253.110001</td>\n",
       "      <td>247.169998</td>\n",
       "      <td>252.389999</td>\n",
       "      <td>234.360931</td>\n",
       "      <td>142628800</td>\n",
       "    </tr>\n",
       "    <tr>\n",
       "      <th>3</th>\n",
       "      <td>2019-01-07</td>\n",
       "      <td>252.690002</td>\n",
       "      <td>255.949997</td>\n",
       "      <td>251.690002</td>\n",
       "      <td>254.380005</td>\n",
       "      <td>236.208771</td>\n",
       "      <td>103139100</td>\n",
       "    </tr>\n",
       "    <tr>\n",
       "      <th>4</th>\n",
       "      <td>2019-01-08</td>\n",
       "      <td>256.820007</td>\n",
       "      <td>257.309998</td>\n",
       "      <td>254.000000</td>\n",
       "      <td>256.769989</td>\n",
       "      <td>238.428040</td>\n",
       "      <td>102512600</td>\n",
       "    </tr>\n",
       "  </tbody>\n",
       "</table>\n",
       "</div>"
      ],
      "text/plain": [
       "         Date        Open        High         Low       Close   Adj Close  \\\n",
       "0  2019-01-02  245.979996  251.210007  245.949997  250.179993  232.308762   \n",
       "1  2019-01-03  248.229996  248.570007  243.669998  244.210007  226.765244   \n",
       "2  2019-01-04  247.589996  253.110001  247.169998  252.389999  234.360931   \n",
       "3  2019-01-07  252.690002  255.949997  251.690002  254.380005  236.208771   \n",
       "4  2019-01-08  256.820007  257.309998  254.000000  256.769989  238.428040   \n",
       "\n",
       "      Volume  \n",
       "0  126925200  \n",
       "1  144140700  \n",
       "2  142628800  \n",
       "3  103139100  \n",
       "4  102512600  "
      ]
     },
     "execution_count": 106,
     "metadata": {},
     "output_type": "execute_result"
    }
   ],
   "source": [
    "df= pd.read_csv('SPY.csv')\n",
    "df.head()"
   ]
  },
  {
   "cell_type": "code",
   "execution_count": 107,
   "id": "1dd8db0d-c89a-4140-b0be-c8e90af9bc55",
   "metadata": {},
   "outputs": [],
   "source": [
    "ind.bbp(df, 'Adj Close', period=14)"
   ]
  },
  {
   "cell_type": "code",
   "execution_count": 108,
   "id": "19a40136-718e-4e59-9c51-de1deb63d946",
   "metadata": {},
   "outputs": [
    {
     "name": "stderr",
     "output_type": "stream",
     "text": [
      "/Users/mau/Documents/PROJECTS/python/fun/indicators.py:33: SettingWithCopyWarning: \n",
      "A value is trying to be set on a copy of a slice from a DataFrame\n",
      "\n",
      "See the caveats in the documentation: https://pandas.pydata.org/pandas-docs/stable/user_guide/indexing.html#returning-a-view-versus-a-copy\n",
      "  #if avg_loss == 0\n"
     ]
    }
   ],
   "source": [
    "ind.rsi(df, 'Adj Close',14)"
   ]
  },
  {
   "cell_type": "code",
   "execution_count": null,
   "id": "d9a6306a-b3d7-48f8-ba9b-97b633e3deaa",
   "metadata": {},
   "outputs": [],
   "source": []
  }
 ],
 "metadata": {
  "kernelspec": {
   "display_name": "Python 3 (ipykernel)",
   "language": "python",
   "name": "python3"
  },
  "language_info": {
   "codemirror_mode": {
    "name": "ipython",
    "version": 3
   },
   "file_extension": ".py",
   "mimetype": "text/x-python",
   "name": "python",
   "nbconvert_exporter": "python",
   "pygments_lexer": "ipython3",
   "version": "3.10.9"
  }
 },
 "nbformat": 4,
 "nbformat_minor": 5
}
