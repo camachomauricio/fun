{
 "cells": [
  {
   "cell_type": "code",
   "execution_count": 3,
   "id": "e11c6181-a7e8-4be3-8797-ed121c81b6a4",
   "metadata": {},
   "outputs": [],
   "source": [
    "import yfinance as yf\n",
    "import pandas as pd\n",
    "# https://analyzingalpha.com/yfinance-python"
   ]
  },
  {
   "cell_type": "code",
   "execution_count": 12,
   "id": "eb8b5cab-55b3-4d58-9663-d9aecb7e0ac5",
   "metadata": {},
   "outputs": [
    {
     "name": "stdout",
     "output_type": "stream",
     "text": [
      "[*********************100%***********************]  1 of 1 completed\n"
     ]
    }
   ],
   "source": [
    "ticker = 'SPY'\n",
    "start_date = pd.Timestamp(\"2023-01-01\")\n",
    "end_date = pd.Timestamp.today()\n",
    "df = yf.download(ticker, start=start_date, end=end_date)\n",
    "df.to_csv(ticker+'.csv')"
   ]
  },
  {
   "cell_type": "code",
   "execution_count": 11,
   "id": "c47e895c-16e5-45b3-98e2-fcbc04c4913e",
   "metadata": {},
   "outputs": [
    {
     "data": {
      "text/html": [
       "<div>\n",
       "<style scoped>\n",
       "    .dataframe tbody tr th:only-of-type {\n",
       "        vertical-align: middle;\n",
       "    }\n",
       "\n",
       "    .dataframe tbody tr th {\n",
       "        vertical-align: top;\n",
       "    }\n",
       "\n",
       "    .dataframe thead th {\n",
       "        text-align: right;\n",
       "    }\n",
       "</style>\n",
       "<table border=\"1\" class=\"dataframe\">\n",
       "  <thead>\n",
       "    <tr style=\"text-align: right;\">\n",
       "      <th></th>\n",
       "      <th>Open</th>\n",
       "      <th>High</th>\n",
       "      <th>Low</th>\n",
       "      <th>Close</th>\n",
       "      <th>Adj Close</th>\n",
       "      <th>Volume</th>\n",
       "    </tr>\n",
       "    <tr>\n",
       "      <th>Date</th>\n",
       "      <th></th>\n",
       "      <th></th>\n",
       "      <th></th>\n",
       "      <th></th>\n",
       "      <th></th>\n",
       "      <th></th>\n",
       "    </tr>\n",
       "  </thead>\n",
       "  <tbody>\n",
       "    <tr>\n",
       "      <th>2023-07-24</th>\n",
       "      <td>453.369995</td>\n",
       "      <td>455.040009</td>\n",
       "      <td>452.299988</td>\n",
       "      <td>454.200012</td>\n",
       "      <td>454.200012</td>\n",
       "      <td>54023400</td>\n",
       "    </tr>\n",
       "    <tr>\n",
       "      <th>2023-07-25</th>\n",
       "      <td>453.920013</td>\n",
       "      <td>456.739990</td>\n",
       "      <td>453.869995</td>\n",
       "      <td>455.440002</td>\n",
       "      <td>455.440002</td>\n",
       "      <td>55191200</td>\n",
       "    </tr>\n",
       "    <tr>\n",
       "      <th>2023-07-26</th>\n",
       "      <td>454.470001</td>\n",
       "      <td>456.989990</td>\n",
       "      <td>453.380005</td>\n",
       "      <td>455.510010</td>\n",
       "      <td>455.510010</td>\n",
       "      <td>71052900</td>\n",
       "    </tr>\n",
       "    <tr>\n",
       "      <th>2023-07-27</th>\n",
       "      <td>459.019989</td>\n",
       "      <td>459.440002</td>\n",
       "      <td>451.549988</td>\n",
       "      <td>452.489990</td>\n",
       "      <td>452.489990</td>\n",
       "      <td>92194400</td>\n",
       "    </tr>\n",
       "    <tr>\n",
       "      <th>2023-07-28</th>\n",
       "      <td>455.880005</td>\n",
       "      <td>457.779999</td>\n",
       "      <td>452.489990</td>\n",
       "      <td>456.920013</td>\n",
       "      <td>456.920013</td>\n",
       "      <td>79949400</td>\n",
       "    </tr>\n",
       "  </tbody>\n",
       "</table>\n",
       "</div>"
      ],
      "text/plain": [
       "                  Open        High         Low       Close   Adj Close  \\\n",
       "Date                                                                     \n",
       "2023-07-24  453.369995  455.040009  452.299988  454.200012  454.200012   \n",
       "2023-07-25  453.920013  456.739990  453.869995  455.440002  455.440002   \n",
       "2023-07-26  454.470001  456.989990  453.380005  455.510010  455.510010   \n",
       "2023-07-27  459.019989  459.440002  451.549988  452.489990  452.489990   \n",
       "2023-07-28  455.880005  457.779999  452.489990  456.920013  456.920013   \n",
       "\n",
       "              Volume  \n",
       "Date                  \n",
       "2023-07-24  54023400  \n",
       "2023-07-25  55191200  \n",
       "2023-07-26  71052900  \n",
       "2023-07-27  92194400  \n",
       "2023-07-28  79949400  "
      ]
     },
     "execution_count": 11,
     "metadata": {},
     "output_type": "execute_result"
    }
   ],
   "source": [
    "df.tail()"
   ]
  },
  {
   "cell_type": "code",
   "execution_count": null,
   "id": "ea4bbd66-1e49-4d43-847e-fdd694b2a196",
   "metadata": {},
   "outputs": [],
   "source": []
  }
 ],
 "metadata": {
  "kernelspec": {
   "display_name": "Python 3 (ipykernel)",
   "language": "python",
   "name": "python3"
  },
  "language_info": {
   "codemirror_mode": {
    "name": "ipython",
    "version": 3
   },
   "file_extension": ".py",
   "mimetype": "text/x-python",
   "name": "python",
   "nbconvert_exporter": "python",
   "pygments_lexer": "ipython3",
   "version": "3.10.9"
  }
 },
 "nbformat": 4,
 "nbformat_minor": 5
}
